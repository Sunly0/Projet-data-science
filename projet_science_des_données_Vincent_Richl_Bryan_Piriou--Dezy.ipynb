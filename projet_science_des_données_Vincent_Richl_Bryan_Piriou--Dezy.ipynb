{
 "cells": [
  {
   "cell_type": "code",
   "execution_count": 4,
   "id": "66837c04",
   "metadata": {},
   "outputs": [],
   "source": [
    "import pandas as pd\n",
    "import numpy as np\n",
    "import seaborn as sns\n",
    "import matplotlib.pyplot as plt\n",
    "from datetime import datetime\n",
    "import dateutil.parser\n",
    "import re\n",
    "\n",
    "#La commande ci-dessous signifie que la sortie de plusieurs\n",
    "#commandes dans une cellule sera sortie en une seule fois\n",
    "\n",
    "from IPython.core.interactiveshell import InteractiveShell\n",
    "InteractiveShell.ast_node_interactivity = \"all\"\n",
    "\n",
    "#La commande ci-dessous indique à jupyter d'afficher \n",
    "#jusqu'à 80 colonnes, ce qui permet de garder tout visible.\n",
    "\n",
    "pd.set_option('display.max_columns', 80)\n",
    "pd.set_option('expand_frame_repr', True)\n",
    "\n",
    "%matplotlib inline\n",
    "\n",
    "sns.set_palette(\"hls\")\n",
    "from sklearn import preprocessing\n",
    "from sklearn.cluster import KMeans\n",
    "\n",
    "from scipy import stats as stats\n",
    "from sklearn.model_selection import train_test_split, cross_val_score\n",
    "from sklearn.linear_model import LinearRegression\n",
    "from sklearn.metrics import mean_squared_error, make_scorer\n",
    "import statsmodels.api as sm"
   ]
  },
  {
   "cell_type": "markdown",
   "id": "3d75b517",
   "metadata": {},
   "source": [
    "# Analyse exploratoire des données"
   ]
  },
  {
   "cell_type": "markdown",
   "id": "95170a6b",
   "metadata": {},
   "source": [
    "## Importation du dataset"
   ]
  },
  {
   "cell_type": "code",
   "execution_count": 5,
   "id": "f9d370ef",
   "metadata": {
    "scrolled": true
   },
   "outputs": [
    {
     "data": {
      "text/html": [
       "<div>\n",
       "<style scoped>\n",
       "    .dataframe tbody tr th:only-of-type {\n",
       "        vertical-align: middle;\n",
       "    }\n",
       "\n",
       "    .dataframe tbody tr th {\n",
       "        vertical-align: top;\n",
       "    }\n",
       "\n",
       "    .dataframe thead th {\n",
       "        text-align: right;\n",
       "    }\n",
       "</style>\n",
       "<table border=\"1\" class=\"dataframe\">\n",
       "  <thead>\n",
       "    <tr style=\"text-align: right;\">\n",
       "      <th></th>\n",
       "      <th>sepal_length</th>\n",
       "      <th>sepal_width</th>\n",
       "      <th>petal_length</th>\n",
       "      <th>petal_width</th>\n",
       "      <th>class</th>\n",
       "    </tr>\n",
       "  </thead>\n",
       "  <tbody>\n",
       "    <tr>\n",
       "      <th>0</th>\n",
       "      <td>5.1</td>\n",
       "      <td>3.5</td>\n",
       "      <td>1.4</td>\n",
       "      <td>0.2</td>\n",
       "      <td>Iris-setosa</td>\n",
       "    </tr>\n",
       "    <tr>\n",
       "      <th>1</th>\n",
       "      <td>4.9</td>\n",
       "      <td>3.0</td>\n",
       "      <td>1.4</td>\n",
       "      <td>0.2</td>\n",
       "      <td>Iris-setosa</td>\n",
       "    </tr>\n",
       "    <tr>\n",
       "      <th>2</th>\n",
       "      <td>4.7</td>\n",
       "      <td>3.2</td>\n",
       "      <td>1.3</td>\n",
       "      <td>0.2</td>\n",
       "      <td>Iris-setosa</td>\n",
       "    </tr>\n",
       "    <tr>\n",
       "      <th>3</th>\n",
       "      <td>4.6</td>\n",
       "      <td>3.1</td>\n",
       "      <td>1.5</td>\n",
       "      <td>0.2</td>\n",
       "      <td>Iris-setosa</td>\n",
       "    </tr>\n",
       "    <tr>\n",
       "      <th>4</th>\n",
       "      <td>5.0</td>\n",
       "      <td>3.6</td>\n",
       "      <td>1.4</td>\n",
       "      <td>0.2</td>\n",
       "      <td>Iris-setosa</td>\n",
       "    </tr>\n",
       "  </tbody>\n",
       "</table>\n",
       "</div>"
      ],
      "text/plain": [
       "   sepal_length  sepal_width  petal_length  petal_width        class\n",
       "0           5.1          3.5           1.4          0.2  Iris-setosa\n",
       "1           4.9          3.0           1.4          0.2  Iris-setosa\n",
       "2           4.7          3.2           1.3          0.2  Iris-setosa\n",
       "3           4.6          3.1           1.5          0.2  Iris-setosa\n",
       "4           5.0          3.6           1.4          0.2  Iris-setosa"
      ]
     },
     "execution_count": 5,
     "metadata": {},
     "output_type": "execute_result"
    }
   ],
   "source": [
    "iris = pd.read_csv('iris.txt')\n",
    "iris.head()"
   ]
  },
  {
   "cell_type": "markdown",
   "id": "e1ec18e8",
   "metadata": {},
   "source": [
    "On a affiché ici les 4 premiers éléments de notre data set que l'on a nommé : \" iris \"."
   ]
  },
  {
   "cell_type": "code",
   "execution_count": 6,
   "id": "8912d056",
   "metadata": {
    "scrolled": true
   },
   "outputs": [
    {
     "data": {
      "text/html": [
       "<div>\n",
       "<style scoped>\n",
       "    .dataframe tbody tr th:only-of-type {\n",
       "        vertical-align: middle;\n",
       "    }\n",
       "\n",
       "    .dataframe tbody tr th {\n",
       "        vertical-align: top;\n",
       "    }\n",
       "\n",
       "    .dataframe thead th {\n",
       "        text-align: right;\n",
       "    }\n",
       "</style>\n",
       "<table border=\"1\" class=\"dataframe\">\n",
       "  <thead>\n",
       "    <tr style=\"text-align: right;\">\n",
       "      <th></th>\n",
       "      <th>sepal_length</th>\n",
       "      <th>sepal_width</th>\n",
       "      <th>petal_length</th>\n",
       "      <th>petal_width</th>\n",
       "      <th>class</th>\n",
       "    </tr>\n",
       "  </thead>\n",
       "  <tbody>\n",
       "    <tr>\n",
       "      <th>80</th>\n",
       "      <td>5.5</td>\n",
       "      <td>2.4</td>\n",
       "      <td>3.8</td>\n",
       "      <td>1.1</td>\n",
       "      <td>Iris-versicolor</td>\n",
       "    </tr>\n",
       "    <tr>\n",
       "      <th>46</th>\n",
       "      <td>5.1</td>\n",
       "      <td>3.8</td>\n",
       "      <td>1.6</td>\n",
       "      <td>0.2</td>\n",
       "      <td>Iris-setosa</td>\n",
       "    </tr>\n",
       "    <tr>\n",
       "      <th>104</th>\n",
       "      <td>6.5</td>\n",
       "      <td>3.0</td>\n",
       "      <td>5.8</td>\n",
       "      <td>2.2</td>\n",
       "      <td>Iris-virginica</td>\n",
       "    </tr>\n",
       "  </tbody>\n",
       "</table>\n",
       "</div>"
      ],
      "text/plain": [
       "     sepal_length  sepal_width  petal_length  petal_width            class\n",
       "80            5.5          2.4           3.8          1.1  Iris-versicolor\n",
       "46            5.1          3.8           1.6          0.2      Iris-setosa\n",
       "104           6.5          3.0           5.8          2.2   Iris-virginica"
      ]
     },
     "execution_count": 6,
     "metadata": {},
     "output_type": "execute_result"
    }
   ],
   "source": [
    "iris.sample(3)"
   ]
  },
  {
   "cell_type": "markdown",
   "id": "e191fddb",
   "metadata": {},
   "source": [
    "Voici 3 lignes aléatoires parmis toutes les données"
   ]
  },
  {
   "cell_type": "markdown",
   "id": "d6b620ab",
   "metadata": {},
   "source": [
    "## Type de variable"
   ]
  },
  {
   "cell_type": "code",
   "execution_count": 7,
   "id": "3c8e7d11",
   "metadata": {},
   "outputs": [
    {
     "data": {
      "text/plain": [
       "['sepal_length', 'sepal_width', 'petal_length', 'petal_width', 'class']"
      ]
     },
     "execution_count": 7,
     "metadata": {},
     "output_type": "execute_result"
    }
   ],
   "source": [
    "# Voici toutes les colonnes\n",
    "iris.columns.tolist()"
   ]
  },
  {
   "cell_type": "code",
   "execution_count": 8,
   "id": "735ea2dc",
   "metadata": {},
   "outputs": [
    {
     "name": "stdout",
     "output_type": "stream",
     "text": [
      "dtype('sepal_length') = float64\n",
      "dtype('sepal_width') = float64\n",
      "dtype('petal_length') = float64\n",
      "dtype('petal_width') = float64\n",
      "dtype('class') = object\n"
     ]
    }
   ],
   "source": [
    "for elem in iris.columns.tolist():\n",
    "    print(f\"dtype('{elem}') = {iris[elem].dtype}\")"
   ]
  },
  {
   "cell_type": "markdown",
   "id": "e96bef1c",
   "metadata": {},
   "source": [
    "On voit que les colonnes \"sepal_length, sepal_width, petal_length, petal_width\" sont de type \"float64\" et sont donc des valeurs réelles.\n",
    "\n",
    "\n",
    "La dernière colonne \"class\" est de type \"object\" et nous donne l'espèce à laquelle appartient la fleur mesurée. "
   ]
  },
  {
   "cell_type": "markdown",
   "id": "52b3da8b",
   "metadata": {},
   "source": [
    "## Notre dataset possède-t-il des valeurs manquantes ?"
   ]
  },
  {
   "cell_type": "code",
   "execution_count": 9,
   "id": "2a3096b6",
   "metadata": {},
   "outputs": [
    {
     "data": {
      "text/plain": [
       "sepal_length    0\n",
       "sepal_width     0\n",
       "petal_length    0\n",
       "petal_width     0\n",
       "class           0\n",
       "dtype: int64"
      ]
     },
     "execution_count": 9,
     "metadata": {},
     "output_type": "execute_result"
    }
   ],
   "source": [
    "iris.isnull().sum()"
   ]
  },
  {
   "cell_type": "markdown",
   "id": "53a29bdb",
   "metadata": {},
   "source": [
    "On remarque donc qu'il ne manque aucune valeur dans notre dataset ce qui est très appréciable."
   ]
  },
  {
   "cell_type": "markdown",
   "id": "8ff2c6be",
   "metadata": {},
   "source": [
    "## Conformité"
   ]
  },
  {
   "cell_type": "code",
   "execution_count": 10,
   "id": "82e52cc8",
   "metadata": {},
   "outputs": [
    {
     "name": "stdout",
     "output_type": "stream",
     "text": [
      "Il y a 150 observations et 5 variables\n"
     ]
    }
   ],
   "source": [
    "print(f'Il y a {iris.shape[0]} observations et {iris.shape[1]} variables')"
   ]
  },
  {
   "cell_type": "code",
   "execution_count": 11,
   "id": "28d80857",
   "metadata": {
    "scrolled": true
   },
   "outputs": [
    {
     "data": {
      "text/html": [
       "<div>\n",
       "<style scoped>\n",
       "    .dataframe tbody tr th:only-of-type {\n",
       "        vertical-align: middle;\n",
       "    }\n",
       "\n",
       "    .dataframe tbody tr th {\n",
       "        vertical-align: top;\n",
       "    }\n",
       "\n",
       "    .dataframe thead th {\n",
       "        text-align: right;\n",
       "    }\n",
       "</style>\n",
       "<table border=\"1\" class=\"dataframe\">\n",
       "  <thead>\n",
       "    <tr style=\"text-align: right;\">\n",
       "      <th></th>\n",
       "      <th>sepal_length</th>\n",
       "      <th>sepal_width</th>\n",
       "      <th>petal_length</th>\n",
       "      <th>petal_width</th>\n",
       "    </tr>\n",
       "  </thead>\n",
       "  <tbody>\n",
       "    <tr>\n",
       "      <th>count</th>\n",
       "      <td>150.000000</td>\n",
       "      <td>150.000000</td>\n",
       "      <td>150.000000</td>\n",
       "      <td>150.000000</td>\n",
       "    </tr>\n",
       "    <tr>\n",
       "      <th>mean</th>\n",
       "      <td>5.843333</td>\n",
       "      <td>3.054000</td>\n",
       "      <td>3.758667</td>\n",
       "      <td>1.198667</td>\n",
       "    </tr>\n",
       "    <tr>\n",
       "      <th>std</th>\n",
       "      <td>0.828066</td>\n",
       "      <td>0.433594</td>\n",
       "      <td>1.764420</td>\n",
       "      <td>0.763161</td>\n",
       "    </tr>\n",
       "    <tr>\n",
       "      <th>min</th>\n",
       "      <td>4.300000</td>\n",
       "      <td>2.000000</td>\n",
       "      <td>1.000000</td>\n",
       "      <td>0.100000</td>\n",
       "    </tr>\n",
       "    <tr>\n",
       "      <th>25%</th>\n",
       "      <td>5.100000</td>\n",
       "      <td>2.800000</td>\n",
       "      <td>1.600000</td>\n",
       "      <td>0.300000</td>\n",
       "    </tr>\n",
       "    <tr>\n",
       "      <th>50%</th>\n",
       "      <td>5.800000</td>\n",
       "      <td>3.000000</td>\n",
       "      <td>4.350000</td>\n",
       "      <td>1.300000</td>\n",
       "    </tr>\n",
       "    <tr>\n",
       "      <th>75%</th>\n",
       "      <td>6.400000</td>\n",
       "      <td>3.300000</td>\n",
       "      <td>5.100000</td>\n",
       "      <td>1.800000</td>\n",
       "    </tr>\n",
       "    <tr>\n",
       "      <th>max</th>\n",
       "      <td>7.900000</td>\n",
       "      <td>4.400000</td>\n",
       "      <td>6.900000</td>\n",
       "      <td>2.500000</td>\n",
       "    </tr>\n",
       "  </tbody>\n",
       "</table>\n",
       "</div>"
      ],
      "text/plain": [
       "       sepal_length  sepal_width  petal_length  petal_width\n",
       "count    150.000000   150.000000    150.000000   150.000000\n",
       "mean       5.843333     3.054000      3.758667     1.198667\n",
       "std        0.828066     0.433594      1.764420     0.763161\n",
       "min        4.300000     2.000000      1.000000     0.100000\n",
       "25%        5.100000     2.800000      1.600000     0.300000\n",
       "50%        5.800000     3.000000      4.350000     1.300000\n",
       "75%        6.400000     3.300000      5.100000     1.800000\n",
       "max        7.900000     4.400000      6.900000     2.500000"
      ]
     },
     "execution_count": 11,
     "metadata": {},
     "output_type": "execute_result"
    }
   ],
   "source": [
    "iris.describe()"
   ]
  },
  {
   "cell_type": "markdown",
   "id": "a1b6d477",
   "metadata": {},
   "source": [
    "On a donc bien 150 observations par variables pour 4 variables qui sont nos colonnes vues précédemment.\n",
    "\n",
    "La plage des valeurs semble correcte, en effet on voit que les minimums des mesures de chaques variables sont positifs."
   ]
  },
  {
   "cell_type": "code",
   "execution_count": 12,
   "id": "dbea3018",
   "metadata": {
    "scrolled": true
   },
   "outputs": [
    {
     "data": {
      "text/html": [
       "<div>\n",
       "<style scoped>\n",
       "    .dataframe tbody tr th:only-of-type {\n",
       "        vertical-align: middle;\n",
       "    }\n",
       "\n",
       "    .dataframe tbody tr th {\n",
       "        vertical-align: top;\n",
       "    }\n",
       "\n",
       "    .dataframe thead th {\n",
       "        text-align: right;\n",
       "    }\n",
       "</style>\n",
       "<table border=\"1\" class=\"dataframe\">\n",
       "  <thead>\n",
       "    <tr style=\"text-align: right;\">\n",
       "      <th></th>\n",
       "      <th>class</th>\n",
       "    </tr>\n",
       "  </thead>\n",
       "  <tbody>\n",
       "    <tr>\n",
       "      <th>count</th>\n",
       "      <td>150</td>\n",
       "    </tr>\n",
       "    <tr>\n",
       "      <th>unique</th>\n",
       "      <td>3</td>\n",
       "    </tr>\n",
       "    <tr>\n",
       "      <th>top</th>\n",
       "      <td>Iris-virginica</td>\n",
       "    </tr>\n",
       "    <tr>\n",
       "      <th>freq</th>\n",
       "      <td>50</td>\n",
       "    </tr>\n",
       "  </tbody>\n",
       "</table>\n",
       "</div>"
      ],
      "text/plain": [
       "                 class\n",
       "count              150\n",
       "unique               3\n",
       "top     Iris-virginica\n",
       "freq                50"
      ]
     },
     "execution_count": 12,
     "metadata": {},
     "output_type": "execute_result"
    }
   ],
   "source": [
    "categorical = iris.dtypes[iris.dtypes == \"object\"].index\n",
    "iris[categorical].describe()"
   ]
  },
  {
   "cell_type": "code",
   "execution_count": 13,
   "id": "d164359f",
   "metadata": {},
   "outputs": [
    {
     "data": {
      "image/png": "[encoded data removed]",
      "text/plain": [
       "<Figure size 432x288 with 1 Axes>"
      ]
     },
     "metadata": {},
     "output_type": "display_data"
    }
   ],
   "source": [
    "# Pie chart, where the slices will be ordered and plotted counter-clockwise:\n",
    "labels = \"Iris setosa\", \"Iris versicolor\", \"Iris virginica\"\n",
    "len_iris_setosa = len(iris[iris[\"class\"] == \"Iris-setosa\"])\n",
    "len_iris_versicolor = len(iris[iris[\"class\"] == \"Iris-versicolor\"])\n",
    "len_iris_virginica = len(iris[iris[\"class\"] == \"Iris-virginica\"])\n",
    "sizes = [len_iris_setosa/150, len_iris_versicolor/150, len_iris_virginica/150]\n",
    "\n",
    "fig1, ax1 = plt.subplots()\n",
    "ax1.pie(sizes, labels=labels, autopct='%1.1f%%',\n",
    "        shadow=True, startangle=90)\n",
    "ax1.axis('equal')  # Equal aspect ratio ensures that pie is drawn as a circle.\n",
    "\n",
    "plt.show();"
   ]
  },
  {
   "cell_type": "markdown",
   "id": "9ce21af8",
   "metadata": {},
   "source": [
    "La dernière variable ( \"class\" ) qui est de type \"object\" nous indique qu'il y a 3 espèces différentes d'iris. \n",
    "\n",
    "Ici nos données sont équitablement réparties, il y a 50 observations par espèces."
   ]
  },
  {
   "cell_type": "markdown",
   "id": "b7fa19c0",
   "metadata": {},
   "source": [
    "## Scatter plot"
   ]
  },
  {
   "cell_type": "code",
   "execution_count": 14,
   "id": "44b1cb4f",
   "metadata": {
    "scrolled": true
   },
   "outputs": [
    {
     "name": "stdout",
     "output_type": "stream",
     "text": [
      "sepal_length\n",
      "sepal_width\n",
      "petal_length\n",
      "petal_width\n"
     ]
    }
   ],
   "source": [
    "numeric_vars = iris.select_dtypes(include=[np.number]).columns.tolist()\n",
    "for variable in numeric_vars:\n",
    "    print(variable)"
   ]
  },
  {
   "cell_type": "markdown",
   "id": "717bd0a7",
   "metadata": {},
   "source": [
    "Nos variables numériques sont donc : sepal_length, sepal_width, petal_length et petal_width"
   ]
  },
  {
   "cell_type": "markdown",
   "id": "679fc925",
   "metadata": {},
   "source": [
    "Pour commencer, regardons s’il existe une relation entre petal_length et petal_width. L'intuition suggère que les pétales les plus longues sont aussi les plus larges. \n",
    "\n",
    "Si c'est vrai, nous le verrons dans le nuage de points."
   ]
  },
  {
   "cell_type": "code",
   "execution_count": 15,
   "id": "c3cc6f3e",
   "metadata": {},
   "outputs": [
    {
     "data": {
      "image/png": "[encoded data removed]",
      "text/plain": [
       "<Figure size 432x288 with 1 Axes>"
      ]
     },
     "metadata": {
      "needs_background": "light"
     },
     "output_type": "display_data"
    }
   ],
   "source": [
    "ax = sns.regplot(x='petal_length', y='petal_width', data=iris)"
   ]
  },
  {
   "cell_type": "markdown",
   "id": "4bd3b200",
   "metadata": {},
   "source": [
    "On voit très clairement une relation linéaire entre la longueur et la largeur des pétales."
   ]
  },
  {
   "cell_type": "markdown",
   "id": "1ead77f2",
   "metadata": {},
   "source": [
    "### Explorons une autre relation"
   ]
  },
  {
   "cell_type": "code",
   "execution_count": 16,
   "id": "46d2083f",
   "metadata": {},
   "outputs": [
    {
     "data": {
      "image/png": "[encoded data removed]",
      "text/plain": [
       "<Figure size 432x288 with 1 Axes>"
      ]
     },
     "metadata": {
      "needs_background": "light"
     },
     "output_type": "display_data"
    }
   ],
   "source": [
    "ax = sns.regplot(x='sepal_length', y='sepal_width', data=iris)"
   ]
  },
  {
   "cell_type": "markdown",
   "id": "5a1ce9b5",
   "metadata": {},
   "source": [
    "On remarque qu'il n'y a pas vraiment de relation entre la longueur du sépale et sa largeur"
   ]
  },
  {
   "cell_type": "markdown",
   "id": "4f691680",
   "metadata": {},
   "source": [
    "## Matrice de dispersion"
   ]
  },
  {
   "cell_type": "markdown",
   "id": "935aa9b0",
   "metadata": {},
   "source": [
    "Lorsque nous avons beaucoup de variables continues, nous pouvons les passer en revue une par\n",
    "une pour voir la relation où nous pouvons utiliser une matrice de nuage de points ! Celle-ci crée\n",
    "un diagramme de dispersion entre chaque combinaison de variables dans une liste.\n",
    "\n",
    "\n",
    "Une autre qualité intéressante de la matrice de dispersion est que les diagonales donnent un his-\n",
    "togramme de la variable en question."
   ]
  },
  {
   "cell_type": "code",
   "execution_count": 17,
   "id": "454214fd",
   "metadata": {},
   "outputs": [],
   "source": [
    "columns = ['petal_length','petal_width','class']\n",
    "num_df = iris[columns]"
   ]
  },
  {
   "cell_type": "code",
   "execution_count": 18,
   "id": "cf6a8b4f",
   "metadata": {
    "scrolled": false
   },
   "outputs": [
    {
     "data": {
      "text/html": [
       "<div>\n",
       "<style scoped>\n",
       "    .dataframe tbody tr th:only-of-type {\n",
       "        vertical-align: middle;\n",
       "    }\n",
       "\n",
       "    .dataframe tbody tr th {\n",
       "        vertical-align: top;\n",
       "    }\n",
       "\n",
       "    .dataframe thead th {\n",
       "        text-align: right;\n",
       "    }\n",
       "</style>\n",
       "<table border=\"1\" class=\"dataframe\">\n",
       "  <thead>\n",
       "    <tr style=\"text-align: right;\">\n",
       "      <th></th>\n",
       "      <th>petal_length</th>\n",
       "      <th>petal_width</th>\n",
       "      <th>class</th>\n",
       "    </tr>\n",
       "  </thead>\n",
       "  <tbody>\n",
       "    <tr>\n",
       "      <th>0</th>\n",
       "      <td>1.4</td>\n",
       "      <td>0.2</td>\n",
       "      <td>Iris-setosa</td>\n",
       "    </tr>\n",
       "    <tr>\n",
       "      <th>1</th>\n",
       "      <td>1.4</td>\n",
       "      <td>0.2</td>\n",
       "      <td>Iris-setosa</td>\n",
       "    </tr>\n",
       "    <tr>\n",
       "      <th>2</th>\n",
       "      <td>1.3</td>\n",
       "      <td>0.2</td>\n",
       "      <td>Iris-setosa</td>\n",
       "    </tr>\n",
       "    <tr>\n",
       "      <th>3</th>\n",
       "      <td>1.5</td>\n",
       "      <td>0.2</td>\n",
       "      <td>Iris-setosa</td>\n",
       "    </tr>\n",
       "    <tr>\n",
       "      <th>4</th>\n",
       "      <td>1.4</td>\n",
       "      <td>0.2</td>\n",
       "      <td>Iris-setosa</td>\n",
       "    </tr>\n",
       "    <tr>\n",
       "      <th>...</th>\n",
       "      <td>...</td>\n",
       "      <td>...</td>\n",
       "      <td>...</td>\n",
       "    </tr>\n",
       "    <tr>\n",
       "      <th>145</th>\n",
       "      <td>5.2</td>\n",
       "      <td>2.3</td>\n",
       "      <td>Iris-virginica</td>\n",
       "    </tr>\n",
       "    <tr>\n",
       "      <th>146</th>\n",
       "      <td>5.0</td>\n",
       "      <td>1.9</td>\n",
       "      <td>Iris-virginica</td>\n",
       "    </tr>\n",
       "    <tr>\n",
       "      <th>147</th>\n",
       "      <td>5.2</td>\n",
       "      <td>2.0</td>\n",
       "      <td>Iris-virginica</td>\n",
       "    </tr>\n",
       "    <tr>\n",
       "      <th>148</th>\n",
       "      <td>5.4</td>\n",
       "      <td>2.3</td>\n",
       "      <td>Iris-virginica</td>\n",
       "    </tr>\n",
       "    <tr>\n",
       "      <th>149</th>\n",
       "      <td>5.1</td>\n",
       "      <td>1.8</td>\n",
       "      <td>Iris-virginica</td>\n",
       "    </tr>\n",
       "  </tbody>\n",
       "</table>\n",
       "<p>150 rows × 3 columns</p>\n",
       "</div>"
      ],
      "text/plain": [
       "     petal_length  petal_width           class\n",
       "0             1.4          0.2     Iris-setosa\n",
       "1             1.4          0.2     Iris-setosa\n",
       "2             1.3          0.2     Iris-setosa\n",
       "3             1.5          0.2     Iris-setosa\n",
       "4             1.4          0.2     Iris-setosa\n",
       "..            ...          ...             ...\n",
       "145           5.2          2.3  Iris-virginica\n",
       "146           5.0          1.9  Iris-virginica\n",
       "147           5.2          2.0  Iris-virginica\n",
       "148           5.4          2.3  Iris-virginica\n",
       "149           5.1          1.8  Iris-virginica\n",
       "\n",
       "[150 rows x 3 columns]"
      ]
     },
     "execution_count": 18,
     "metadata": {},
     "output_type": "execute_result"
    }
   ],
   "source": [
    "num_df"
   ]
  },
  {
   "cell_type": "code",
   "execution_count": 19,
   "id": "3601f09f",
   "metadata": {},
   "outputs": [
    {
     "data": {
      "image/png": "[encoded data removed]",
      "text/plain": [
       "<Figure size 463.25x360 with 6 Axes>"
      ]
     },
     "metadata": {
      "needs_background": "light"
     },
     "output_type": "display_data"
    }
   ],
   "source": [
    "# Create the scatter plot and let's color the data point by their status.\n",
    "sns.pairplot(num_df,hue='class');"
   ]
  },
  {
   "cell_type": "markdown",
   "id": "0f85f4c0",
   "metadata": {},
   "source": [
    "## Histogramme"
   ]
  },
  {
   "cell_type": "code",
   "execution_count": 20,
   "id": "7984e1a7",
   "metadata": {},
   "outputs": [
    {
     "name": "stderr",
     "output_type": "stream",
     "text": [
      "C:\\Users\\vince\\anaconda3\\lib\\site-packages\\seaborn\\distributions.py:2557: FutureWarning: `distplot` is a deprecated function and will be removed in a future version. Please adapt your code to use either `displot` (a figure-level function with similar flexibility) or `histplot` (an axes-level function for histograms).\n",
      "  warnings.warn(msg, FutureWarning)\n"
     ]
    },
    {
     "data": {
      "image/png": "[encoded data removed]",
      "text/plain": [
       "<Figure size 432x288 with 1 Axes>"
      ]
     },
     "metadata": {
      "needs_background": "light"
     },
     "output_type": "display_data"
    }
   ],
   "source": [
    "sns.distplot(iris['petal_length']);"
   ]
  },
  {
   "cell_type": "code",
   "execution_count": 21,
   "id": "a0e35f07",
   "metadata": {},
   "outputs": [
    {
     "name": "stderr",
     "output_type": "stream",
     "text": [
      "C:\\Users\\vince\\anaconda3\\lib\\site-packages\\seaborn\\distributions.py:2557: FutureWarning: `distplot` is a deprecated function and will be removed in a future version. Please adapt your code to use either `displot` (a figure-level function with similar flexibility) or `histplot` (an axes-level function for histograms).\n",
      "  warnings.warn(msg, FutureWarning)\n"
     ]
    },
    {
     "data": {
      "image/png": "[encoded data removed]",
      "text/plain": [
       "<Figure size 432x288 with 1 Axes>"
      ]
     },
     "metadata": {
      "needs_background": "light"
     },
     "output_type": "display_data"
    }
   ],
   "source": [
    "sns.distplot(iris['sepal_length'].dropna(axis = 0));"
   ]
  },
  {
   "cell_type": "code",
   "execution_count": 22,
   "id": "c93dd36a",
   "metadata": {},
   "outputs": [
    {
     "name": "stderr",
     "output_type": "stream",
     "text": [
      "C:\\Users\\vince\\anaconda3\\lib\\site-packages\\seaborn\\distributions.py:2557: FutureWarning: `distplot` is a deprecated function and will be removed in a future version. Please adapt your code to use either `displot` (a figure-level function with similar flexibility) or `histplot` (an axes-level function for histograms).\n",
      "  warnings.warn(msg, FutureWarning)\n"
     ]
    },
    {
     "data": {
      "image/png": "[encoded data removed]",
      "text/plain": [
       "<Figure size 432x288 with 1 Axes>"
      ]
     },
     "metadata": {
      "needs_background": "light"
     },
     "output_type": "display_data"
    }
   ],
   "source": [
    "sns.distplot(iris['petal_width'].dropna(axis = 0));"
   ]
  },
  {
   "cell_type": "code",
   "execution_count": 23,
   "id": "679a95b6",
   "metadata": {
    "scrolled": false
   },
   "outputs": [
    {
     "name": "stderr",
     "output_type": "stream",
     "text": [
      "C:\\Users\\vince\\anaconda3\\lib\\site-packages\\seaborn\\distributions.py:2557: FutureWarning: `distplot` is a deprecated function and will be removed in a future version. Please adapt your code to use either `displot` (a figure-level function with similar flexibility) or `histplot` (an axes-level function for histograms).\n",
      "  warnings.warn(msg, FutureWarning)\n"
     ]
    },
    {
     "data": {
      "image/png": "[encoded data removed]",
      "text/plain": [
       "<Figure size 432x288 with 1 Axes>"
      ]
     },
     "metadata": {
      "needs_background": "light"
     },
     "output_type": "display_data"
    }
   ],
   "source": [
    "sns.distplot(iris['sepal_width'].dropna(axis = 0));"
   ]
  },
  {
   "cell_type": "markdown",
   "id": "8c16d0ca",
   "metadata": {},
   "source": [
    "## Bar Plot"
   ]
  },
  {
   "cell_type": "markdown",
   "id": "f54bee28",
   "metadata": {},
   "source": [
    "Les diagrammes en bâtons sont utiles pour comprendre comment les variables catégorielles sont\n",
    "différentes par rapport à une variable continue"
   ]
  },
  {
   "cell_type": "code",
   "execution_count": 24,
   "id": "691281b2",
   "metadata": {},
   "outputs": [
    {
     "data": {
      "image/png": "[encoded data removed]",
      "text/plain": [
       "<Figure size 432x288 with 1 Axes>"
      ]
     },
     "metadata": {
      "needs_background": "light"
     },
     "output_type": "display_data"
    }
   ],
   "source": [
    "p = sns.barplot(x='class', y ='petal_length', data=iris, estimator=np.mean);\n",
    "p.set(title='Moyenne longueur pétale par espèce')\n",
    "p.set_xticklabels(p.get_xticklabels(), rotation=-45);"
   ]
  },
  {
   "cell_type": "code",
   "execution_count": 25,
   "id": "e6c0a621",
   "metadata": {
    "scrolled": true
   },
   "outputs": [
    {
     "data": {
      "image/png": "[encoded data removed]",
      "text/plain": [
       "<Figure size 432x288 with 1 Axes>"
      ]
     },
     "metadata": {
      "needs_background": "light"
     },
     "output_type": "display_data"
    }
   ],
   "source": [
    "p = sns.barplot(x='class', y ='petal_width', data=iris, estimator=np.mean);\n",
    "p.set(title='Moyenne épaisseur pétale par espèce')\n",
    "p.set_xticklabels(p.get_xticklabels(), rotation=-45);"
   ]
  },
  {
   "cell_type": "markdown",
   "id": "6b0330cf",
   "metadata": {},
   "source": [
    "On remarque que les iris virginica ont en moyenne des plus grands et larges pétales que les 2 autres espèces.\n",
    "\n",
    "L'iris setosa possède quant à elle les plus petis pétales."
   ]
  },
  {
   "cell_type": "code",
   "execution_count": 26,
   "id": "6815dd5e",
   "metadata": {
    "scrolled": false
   },
   "outputs": [
    {
     "data": {
      "image/png": "[encoded data removed]",
      "text/plain": [
       "<Figure size 432x288 with 1 Axes>"
      ]
     },
     "metadata": {
      "needs_background": "light"
     },
     "output_type": "display_data"
    }
   ],
   "source": [
    "p = sns.barplot(x='class', y ='sepal_length', data=iris, estimator=np.mean);\n",
    "p.set(title='Moyenne longueur sépale par espèce')\n",
    "p.set_xticklabels(p.get_xticklabels(), rotation=-45);"
   ]
  },
  {
   "cell_type": "code",
   "execution_count": 27,
   "id": "5da8485e",
   "metadata": {},
   "outputs": [
    {
     "data": {
      "image/png": "[encoded data removed]",
      "text/plain": [
       "<Figure size 432x288 with 1 Axes>"
      ]
     },
     "metadata": {
      "needs_background": "light"
     },
     "output_type": "display_data"
    }
   ],
   "source": [
    "p = sns.barplot(x='class', y ='sepal_width', data=iris, estimator=np.mean);\n",
    "p.set(title='Moyenne épaisseur sépale par espèce')\n",
    "p.set_xticklabels(p.get_xticklabels(), rotation=-45);"
   ]
  },
  {
   "cell_type": "markdown",
   "id": "f9bf2d45",
   "metadata": {},
   "source": [
    "Ici il est intéressant de noter que les iris virginica possèdent les sépale les plus longs et les iris setosa les plus courts tandis que l'ordre s'inverse quasiment quand on regarde l'épaisseur des sépales.\n",
    "\n",
    "En effet ici les iris setosa possèdent les sépales les plus larges, et les iris vesicolor les moins larges."
   ]
  },
  {
   "cell_type": "markdown",
   "id": "f982d41a",
   "metadata": {},
   "source": [
    "## Mise à l’échelle des caractéristiques des covariables"
   ]
  },
  {
   "cell_type": "markdown",
   "id": "f74eacf2",
   "metadata": {},
   "source": [
    "Nous ne ferons pas directement de la mise à l'échelle sur les données car la façon dont nous le ferons dépend de l'algorithme que nous utiliserons.\n",
    "\n",
    "Voici les trois techniques les plus courantes de mise à l’échelle des variables : 1. Normalisation 2. Standardisation 3. Transformation logarithmique"
   ]
  },
  {
   "cell_type": "markdown",
   "id": "c164df65",
   "metadata": {},
   "source": [
    "La normalisation est le processus de remise à l’échelle des données de 0 à 1. La formule pour cette approche est la suivante :\n",
    "X_std = (X - Xmin) / (Xmax - Xmin) et X_scaled = X_std * (max - min) + min"
   ]
  },
  {
   "cell_type": "markdown",
   "id": "365a2223",
   "metadata": {},
   "source": [
    "### petal_length"
   ]
  },
  {
   "cell_type": "code",
   "execution_count": 28,
   "id": "98c11569",
   "metadata": {},
   "outputs": [],
   "source": [
    "iris_mae = iris[\"petal_length\"]"
   ]
  },
  {
   "cell_type": "code",
   "execution_count": 29,
   "id": "a14d1370",
   "metadata": {
    "scrolled": true
   },
   "outputs": [
    {
     "data": {
      "text/plain": [
       "MinMaxScaler()"
      ]
     },
     "execution_count": 29,
     "metadata": {},
     "output_type": "execute_result"
    },
    {
     "name": "stdout",
     "output_type": "stream",
     "text": [
      "Pre Scaling\tMin: 1.0\tMax: 6.9\tMean: 3.759\n",
      "Post Scaling\tMin: 0.0\tMax: 1.0\tMean: 0.468\n"
     ]
    }
   ],
   "source": [
    "preprocessing.MinMaxScaler()\n",
    "min_max_scaler = preprocessing.MinMaxScaler()\n",
    "\n",
    "normalized = min_max_scaler.fit_transform(iris_mae.astype(np.float64).values.reshape(-1,1))[:,0]\n",
    "print(f\"Pre Scaling\\tMin: {iris_mae.min()}\\tMax: {iris_mae.max()}\\tMean: {iris_mae.mean():.3f}\")\n",
    "print(f\"Post Scaling\\tMin: {np.min(normalized)}\\tMax: {np.max(normalized)}\\tMean: {np.mean(normalized):.3f}\")"
   ]
  },
  {
   "cell_type": "markdown",
   "id": "2e4f6402",
   "metadata": {},
   "source": [
    "La standardisation suppose que les données sont normalement distribuées (c’est-à-dire gaussi-\n",
    "ennes) et qu’elles sont mises à l’échelle de manière à avoir une moyenne nulle et une variance\n",
    "unitaire. Voici la formule : (X - Xmoyenne) / Xvariance"
   ]
  },
  {
   "cell_type": "code",
   "execution_count": 30,
   "id": "5445b3d1",
   "metadata": {},
   "outputs": [
    {
     "name": "stdout",
     "output_type": "stream",
     "text": [
      "Post Scaling\tMin: -1.569\t Max: 1.786\tMean: 0.000\n"
     ]
    }
   ],
   "source": [
    "standardized = preprocessing.scale(iris_mae.astype(np.float64))\n",
    "print(f\"Post Scaling\\tMin: {np.min(standardized):.3f}\\t Max: {np.max(standardized):.3f}\\tMean: {np.mean(standardized):.3f}\")"
   ]
  },
  {
   "cell_type": "markdown",
   "id": "45bdcba3",
   "metadata": {},
   "source": [
    "D'après ces valeurs, il apparaît que nos données ont une distribution symétrique et n'ont donc pas besoin d'une transformation logarithmique"
   ]
  },
  {
   "cell_type": "code",
   "execution_count": 31,
   "id": "1a16fc2c",
   "metadata": {},
   "outputs": [
    {
     "data": {
      "image/png": "[encoded data removed]",
      "text/plain": [
       "<Figure size 432x288 with 1 Axes>"
      ]
     },
     "metadata": {
      "needs_background": "light"
     },
     "output_type": "display_data"
    },
    {
     "data": {
      "image/png": "[encoded data removed]",
      "text/plain": [
       "<Figure size 432x288 with 1 Axes>"
      ]
     },
     "metadata": {
      "needs_background": "light"
     },
     "output_type": "display_data"
    }
   ],
   "source": [
    "plt.hist(iris_mae)\n",
    "plt.title(\"Histogramme de petal_length\")\n",
    "plt.show()\n",
    "plt.hist(standardized)\n",
    "plt.title(\"Histogramme de petal_length standardisé\")\n",
    "plt.show();"
   ]
  },
  {
   "cell_type": "markdown",
   "id": "f0696735",
   "metadata": {},
   "source": [
    "On remarque sur ces 2 histogrammes qu'en effet les données étaient déjà réparties selon un loi gaussienne.\n",
    "\n",
    "De plus on voir que les données sont scindées en 2 parties, cela vient de la différence de longueur des pétales entre les classes comme vu dans la matrice de dispersion, ce sont les iris setosa.\n",
    "\n",
    "A droite les iris versicolor et virginica sont réparties normalement."
   ]
  },
  {
   "cell_type": "markdown",
   "id": "8ea31f96",
   "metadata": {},
   "source": [
    "### sepal_length"
   ]
  },
  {
   "cell_type": "code",
   "execution_count": 32,
   "id": "2f69e78f",
   "metadata": {},
   "outputs": [],
   "source": [
    "iris_mae = iris[\"sepal_length\"]"
   ]
  },
  {
   "cell_type": "code",
   "execution_count": 33,
   "id": "630b4400",
   "metadata": {},
   "outputs": [
    {
     "data": {
      "text/plain": [
       "MinMaxScaler()"
      ]
     },
     "execution_count": 33,
     "metadata": {},
     "output_type": "execute_result"
    },
    {
     "name": "stdout",
     "output_type": "stream",
     "text": [
      "Pre Scaling\tMin: 4.3\tMax: 7.9\tMean: 5.843\n",
      "Post Scaling\tMin: 0.0\tMax: 1.0\tMean: 0.429\n"
     ]
    }
   ],
   "source": [
    "preprocessing.MinMaxScaler()\n",
    "min_max_scaler = preprocessing.MinMaxScaler()\n",
    "\n",
    "normalized = min_max_scaler.fit_transform(iris_mae.astype(np.float64).values.reshape(-1,1))[:,0]\n",
    "print(f\"Pre Scaling\\tMin: {iris_mae.min()}\\tMax: {iris_mae.max()}\\tMean: {iris_mae.mean():.3f}\")\n",
    "print(f\"Post Scaling\\tMin: {np.min(normalized)}\\tMax: {np.max(normalized)}\\tMean: {np.mean(normalized):.3f}\")"
   ]
  },
  {
   "cell_type": "code",
   "execution_count": 34,
   "id": "4ab161bc",
   "metadata": {},
   "outputs": [
    {
     "name": "stdout",
     "output_type": "stream",
     "text": [
      "Post Scaling\tMin: -1.870\t Max: 2.492\tMean: -0.000\n"
     ]
    }
   ],
   "source": [
    "standardized = preprocessing.scale(iris_mae.astype(np.float64))\n",
    "print(f\"Post Scaling\\tMin: {np.min(standardized):.3f}\\t Max: {np.max(standardized):.3f}\\tMean: {np.mean(standardized):.3f}\")"
   ]
  },
  {
   "cell_type": "code",
   "execution_count": 35,
   "id": "82d0cbe0",
   "metadata": {
    "scrolled": false
   },
   "outputs": [
    {
     "data": {
      "image/png": "[encoded data removed]",
      "text/plain": [
       "<Figure size 432x288 with 1 Axes>"
      ]
     },
     "metadata": {
      "needs_background": "light"
     },
     "output_type": "display_data"
    },
    {
     "data": {
      "image/png": "[encoded data removed]",
      "text/plain": [
       "<Figure size 432x288 with 1 Axes>"
      ]
     },
     "metadata": {
      "needs_background": "light"
     },
     "output_type": "display_data"
    }
   ],
   "source": [
    "plt.hist(iris_mae)\n",
    "plt.title(\"Histogramme de sepal_length\")\n",
    "plt.show()\n",
    "plt.hist(np.log(iris_mae))\n",
    "plt.title(\"Histogramme de sepal_length standardisé\")\n",
    "plt.show();"
   ]
  },
  {
   "cell_type": "markdown",
   "id": "0524854b",
   "metadata": {},
   "source": [
    "### petal_width"
   ]
  },
  {
   "cell_type": "code",
   "execution_count": 36,
   "id": "da16a85c",
   "metadata": {},
   "outputs": [],
   "source": [
    "iris_mae = iris['petal_width']"
   ]
  },
  {
   "cell_type": "code",
   "execution_count": 37,
   "id": "2aac4b20",
   "metadata": {},
   "outputs": [
    {
     "data": {
      "text/plain": [
       "MinMaxScaler()"
      ]
     },
     "execution_count": 37,
     "metadata": {},
     "output_type": "execute_result"
    },
    {
     "name": "stdout",
     "output_type": "stream",
     "text": [
      "Pre Scaling\tMin: 0.1\tMax: 2.5\tMean: 1.199\n",
      "Post Scaling\tMin: 0.0\tMax: 1.0\tMean: 0.458\n"
     ]
    }
   ],
   "source": [
    "preprocessing.MinMaxScaler()\n",
    "min_max_scaler = preprocessing.MinMaxScaler()\n",
    "\n",
    "normalized = min_max_scaler.fit_transform(iris_mae.astype(np.float64).values.reshape(-1,1))[:,0]\n",
    "print(f\"Pre Scaling\\tMin: {iris_mae.min()}\\tMax: {iris_mae.max()}\\tMean: {iris_mae.mean():.3f}\")\n",
    "print(f\"Post Scaling\\tMin: {np.min(normalized)}\\tMax: {np.max(normalized)}\\tMean: {np.mean(normalized):.3f}\")"
   ]
  },
  {
   "cell_type": "code",
   "execution_count": 38,
   "id": "81188395",
   "metadata": {},
   "outputs": [
    {
     "name": "stdout",
     "output_type": "stream",
     "text": [
      "Post Scaling\tMin: -1.444\t Max: 1.711\tMean: -0.000\n"
     ]
    }
   ],
   "source": [
    "standardized = preprocessing.scale(iris_mae.astype(np.float64))\n",
    "print(f\"Post Scaling\\tMin: {np.min(standardized):.3f}\\t Max: {np.max(standardized):.3f}\\tMean: {np.mean(standardized):.3f}\")"
   ]
  },
  {
   "cell_type": "code",
   "execution_count": 39,
   "id": "2980d053",
   "metadata": {
    "scrolled": false
   },
   "outputs": [
    {
     "data": {
      "image/png": "[encoded data removed]",
      "text/plain": [
       "<Figure size 432x288 with 1 Axes>"
      ]
     },
     "metadata": {
      "needs_background": "light"
     },
     "output_type": "display_data"
    },
    {
     "data": {
      "image/png": "[encoded data removed]",
      "text/plain": [
       "<Figure size 432x288 with 1 Axes>"
      ]
     },
     "metadata": {
      "needs_background": "light"
     },
     "output_type": "display_data"
    }
   ],
   "source": [
    "plt.hist(iris_mae)\n",
    "plt.show()\n",
    "log_loan_amount = np.log(iris_mae)\n",
    "plt.hist(log_loan_amount)\n",
    "plt.show();"
   ]
  },
  {
   "cell_type": "code",
   "execution_count": 40,
   "id": "933f5b54",
   "metadata": {},
   "outputs": [
    {
     "data": {
      "text/plain": [
       "MinMaxScaler()"
      ]
     },
     "execution_count": 40,
     "metadata": {},
     "output_type": "execute_result"
    },
    {
     "name": "stdout",
     "output_type": "stream",
     "text": [
      "Pre Scaling\tMin: 2.0\t\t Max: 4.4\tMean: 3.054000\n",
      "Post Scaling\tMin: 0.0\t Max: 1.000\tMean: 0.439167\n"
     ]
    }
   ],
   "source": [
    "preprocessing.MinMaxScaler()\n",
    "min_max_scaler = preprocessing.MinMaxScaler()\n",
    "normalized = min_max_scaler.fit_transform(iris['sepal_width'].astype(np.float64).values.reshape(-1,1))[:,0]\n",
    "print(\"Pre Scaling\\tMin: {0}\\t\\t Max: {1}\\tMean: {2:3f}\".format(iris['sepal_width'].min(),iris['sepal_width'].max(),iris['sepal_width'].mean()))\n",
    "print(\"Post Scaling\\tMin: {0}\\t Max: {1:.3f}\\tMean: {2:3f}\".format(np.min(normalized),np.max(normalized),np.mean(normalized)))"
   ]
  },
  {
   "cell_type": "code",
   "execution_count": 41,
   "id": "8417132a",
   "metadata": {},
   "outputs": [
    {
     "name": "stdout",
     "output_type": "stream",
     "text": [
      "Post Scaling\tMin: -2.438987\t Max: 3.114684\tMean: -0.000000\n"
     ]
    }
   ],
   "source": [
    "standardized = preprocessing.scale(iris['sepal_width'].astype(np.float64))\n",
    "print(\"Post Scaling\\tMin: {0:3f}\\t Max: {1:3f}\\tMean: {2:3f}\".format(np.min(standardized),np.max(standardized),np.mean(standardized)))"
   ]
  },
  {
   "cell_type": "code",
   "execution_count": 42,
   "id": "3aa50e47",
   "metadata": {},
   "outputs": [
    {
     "data": {
      "image/png": "[encoded data removed]",
      "text/plain": [
       "<Figure size 432x288 with 1 Axes>"
      ]
     },
     "metadata": {
      "needs_background": "light"
     },
     "output_type": "display_data"
    },
    {
     "data": {
      "image/png": "[encoded data removed]",
      "text/plain": [
       "<Figure size 432x288 with 1 Axes>"
      ]
     },
     "metadata": {
      "needs_background": "light"
     },
     "output_type": "display_data"
    }
   ],
   "source": [
    "plt.hist(iris['sepal_width'])\n",
    "plt.show()\n",
    "log_loan_amount = np.log(iris['sepal_width'])\n",
    "plt.hist(log_loan_amount)\n",
    "plt.show();"
   ]
  },
  {
   "cell_type": "markdown",
   "id": "6c23edfd",
   "metadata": {},
   "source": [
    "# Régression linéaire"
   ]
  },
  {
   "cell_type": "markdown",
   "id": "f64affdc",
   "metadata": {},
   "source": [
    "Nous allons essayer de construire une régression linéaire afin de répondre à une question qu'on pourrait se poser:\n",
    "\n",
    "Qu'est-ce qui influence la largeur des pétales ? "
   ]
  },
  {
   "cell_type": "markdown",
   "id": "499178aa",
   "metadata": {},
   "source": [
    "## Régression linéaire univariée"
   ]
  },
  {
   "cell_type": "markdown",
   "id": "61019149",
   "metadata": {},
   "source": [
    "Il semblerait logique de penser que plus les pétales sont grands et plus ils sont larges. Afin d'étudier cela nous divisons notre ensemble de données en un ensemble d'entraînement et un ensemble de test. Nous utiliserons notre ensemble d’entraînement pour former notre modèle, et nous utiliserons notre ensemble de test pour sa validation."
   ]
  },
  {
   "cell_type": "code",
   "execution_count": 43,
   "id": "a9b1213b",
   "metadata": {},
   "outputs": [],
   "source": [
    "pd.options.mode.chained_assignment = None # default='warn'\n",
    "# Define our dependent variable\n",
    "y_column = 'petal_width'\n",
    "y = iris[y_column]\n",
    "# Define our independent variables\n",
    "x_columns = ['petal_length']\n",
    "X = iris[x_columns]\n",
    "# Add an intercept term to the independent variables. This is needed in order to \n",
    "#include the constant term from\n",
    "# linear regression equation.\n",
    "X['intercept'] = 1\n",
    "# Split our data into training and test data sets\n",
    "X_train, X_test, y_train, y_test = train_test_split(X, y, test_size=0.2,random_state=42)"
   ]
  },
  {
   "cell_type": "code",
   "execution_count": 44,
   "id": "97c96cf5",
   "metadata": {},
   "outputs": [
    {
     "name": "stdout",
     "output_type": "stream",
     "text": [
      "                            OLS Regression Results                            \n",
      "==============================================================================\n",
      "Dep. Variable:            petal_width   R-squared:                       0.926\n",
      "Model:                            OLS   Adj. R-squared:                  0.926\n",
      "Method:                 Least Squares   F-statistic:                     1483.\n",
      "Date:                Sun, 16 Jan 2022   Prob (F-statistic):           1.18e-68\n",
      "Time:                        11:45:18   Log-Likelihood:                 20.647\n",
      "No. Observations:                 120   AIC:                            -37.29\n",
      "Df Residuals:                     118   BIC:                            -31.72\n",
      "Df Model:                           1                                         \n",
      "Covariance Type:            nonrobust                                         \n",
      "================================================================================\n",
      "                   coef    std err          t      P>|t|      [0.025      0.975]\n",
      "--------------------------------------------------------------------------------\n",
      "petal_length     0.4141      0.011     38.504      0.000       0.393       0.435\n",
      "intercept       -0.3609      0.044     -8.156      0.000      -0.449      -0.273\n",
      "==============================================================================\n",
      "Omnibus:                        5.138   Durbin-Watson:                   2.022\n",
      "Prob(Omnibus):                  0.077   Jarque-Bera (JB):                4.848\n",
      "Skew:                           0.352   Prob(JB):                       0.0886\n",
      "Kurtosis:                       3.688   Cond. No.                         10.2\n",
      "==============================================================================\n",
      "\n",
      "Notes:\n",
      "[1] Standard Errors assume that the covariance matrix of the errors is correctly specified.\n"
     ]
    }
   ],
   "source": [
    "model = sm.OLS(endog=y_train, exog=X_train)\n",
    "model_fit = model.fit()\n",
    "print(model_fit.summary())"
   ]
  },
  {
   "cell_type": "markdown",
   "id": "abb09048",
   "metadata": {},
   "source": [
    "### Interprétation du modèle"
   ]
  },
  {
   "cell_type": "markdown",
   "id": "7acdaeb8",
   "metadata": {},
   "source": [
    "Notre équation est représenté comme ceci:\n",
    "\n",
    "predicted_petal_width = intercept + coef * petal_length"
   ]
  },
  {
   "cell_type": "code",
   "execution_count": 45,
   "id": "67bcde71",
   "metadata": {},
   "outputs": [
    {
     "data": {
      "text/plain": [
       "-0.3609364607144496"
      ]
     },
     "execution_count": 45,
     "metadata": {},
     "output_type": "execute_result"
    }
   ],
   "source": [
    "model_fit.params.intercept"
   ]
  },
  {
   "cell_type": "markdown",
   "id": "98f9e7bf",
   "metadata": {},
   "source": [
    "Cette valeur de l'intercept nous indique l'ordonnée à l'origine de notre modèle, en 0 l'équation vaut intercept"
   ]
  },
  {
   "cell_type": "code",
   "execution_count": 46,
   "id": "a545ce21",
   "metadata": {},
   "outputs": [
    {
     "data": {
      "text/plain": [
       "0.41406746095625746"
      ]
     },
     "execution_count": 46,
     "metadata": {},
     "output_type": "execute_result"
    }
   ],
   "source": [
    "model_fit.params.petal_length"
   ]
  },
  {
   "cell_type": "markdown",
   "id": "4818911a",
   "metadata": {},
   "source": [
    "Cette valeur de petal_length nous donne le coefficient directeur de la droite, on voit qu'il vaut 0.414 donc pour une augmentation de 1 de la longueur du pétale sa largeur augmente de 0.414."
   ]
  },
  {
   "cell_type": "markdown",
   "id": "73892a54",
   "metadata": {},
   "source": [
    "La relation linéaire entre la longueur du pétale et sa largeur est alors :\n",
    "\n",
    "predicted_petal_width = -0.3609 + petal_length * 0.4141"
   ]
  },
  {
   "cell_type": "code",
   "execution_count": 47,
   "id": "d7443126",
   "metadata": {
    "scrolled": false
   },
   "outputs": [
    {
     "data": {
      "image/png": "[encoded data removed]",
      "text/plain": [
       "<Figure size 648x504 with 1 Axes>"
      ]
     },
     "metadata": {
      "needs_background": "light"
     },
     "output_type": "display_data"
    }
   ],
   "source": [
    "y_pred_test = model_fit.predict(X_test)\n",
    "plt.figure(figsize=(9,7))\n",
    "plt.scatter(y_pred_test, y_test, alpha=0.5, c='r')\n",
    "xx = np.linspace(0,3,10)\n",
    "plt.plot(xx,xx)\n",
    "plt.title('predicted vs true for test data')\n",
    "plt.xlabel('predicted petal width')\n",
    "plt.ylabel('True petal width')\n",
    "axes = plt.gca()\n",
    "axes.set_xlim([0,3])\n",
    "axes.set_ylim([0,3])\n",
    "plt.show();"
   ]
  },
  {
   "cell_type": "markdown",
   "id": "366a5745",
   "metadata": {},
   "source": [
    "Ici on place les valeurs prédites par le modèle en fonction des vraies valeurs. On voit qu'il y a une relation linéaire qui se forme, ce qui nous conforte dans le fait que notre modèle fonctionne."
   ]
  },
  {
   "cell_type": "markdown",
   "id": "aeb6149c",
   "metadata": {},
   "source": [
    "Afin de créer ce modèle on a séparé notre jeu de données en deux ensemble: un ensemble d'entraînement (train) pour former la régression et un ensemble test pour valider le modèle.\n",
    "\n",
    "On vérifie que notre modèle est bien approprié pour pouvoir interpréter les coefficients obtenus grâce aux hypothèses suivantes:\n",
    "\n",
    "1) On a vu plus haut qu'il existe une relation linéaire entre petal_width et petal_length\n",
    "\n",
    "2) Le nombre Prob(JB) est supérieur à 0.05, on en déduit que nos données sont normalement distribuées.\n",
    "\n",
    "3) Le nombre de condition est inférieur à 30, ce qui signifie que l'on n'a pas de problème de multcolinéarité\n",
    "\n",
    "4) Le nombre de Durbin-Watson est proche de 2, on en déduit l'absence d'autocorrélation\n",
    "\n",
    "5) Le nombre Prob(Omnibus) est supérieur à 0.05, on en déduit que notre modèle est homoscédastique.\n",
    "\n",
    "Les hypothèses étant vérifiées, on en déduit que notre modèle est approprié."
   ]
  },
  {
   "cell_type": "markdown",
   "id": "ae9f0a55",
   "metadata": {},
   "source": [
    "### Evaluation du modèle"
   ]
  },
  {
   "cell_type": "code",
   "execution_count": 48,
   "id": "e7c01679",
   "metadata": {},
   "outputs": [
    {
     "name": "stdout",
     "output_type": "stream",
     "text": [
      "cross validation R2: 0.9212637338074785\n"
     ]
    }
   ],
   "source": [
    "linear = LinearRegression(fit_intercept=False)\n",
    "r2_cross_val_score = cross_val_score(linear, X_train, y_train, cv = 5).mean()\n",
    "print('cross validation R2: {}'.format(r2_cross_val_score))"
   ]
  },
  {
   "cell_type": "markdown",
   "id": "7f180fa7",
   "metadata": {},
   "source": [
    "La valeur du R2 de validation croisée est proche de la valeur d'apprentissage, on en déduit que notre modèle n'est pas en underfiting (sous-ajustement). Cela nous indique que les performance du modèle sont bonnes. On crée ensuite un score MSE (mean square error) et RMSE(root mean square error)."
   ]
  },
  {
   "cell_type": "markdown",
   "id": "bf0173d1",
   "metadata": {},
   "source": [
    "On évalue désormais la performance de notre modèle en effectuant une validation croisée sur notre ensemble train"
   ]
  },
  {
   "cell_type": "code",
   "execution_count": 49,
   "id": "dd8d1bda",
   "metadata": {},
   "outputs": [
    {
     "name": "stdout",
     "output_type": "stream",
     "text": [
      "cross validation MSE: 0.0423824\n",
      "cross validation RMSE: 0.2059\n"
     ]
    }
   ],
   "source": [
    "mse_scorer = make_scorer(mean_squared_error)\n",
    "mse_cross_val_score = cross_val_score(linear, X_train, y_train,scoring=mse_scorer, cv =5).mean()\n",
    "print(f'cross validation MSE: {mse_cross_val_score:.6}')\n",
    "print(f'cross validation RMSE: {np.sqrt(mse_cross_val_score):.4}')"
   ]
  },
  {
   "cell_type": "markdown",
   "id": "25ad21ff",
   "metadata": {},
   "source": [
    "On en déduit que l'erreur moyenne est de 0.2 cm"
   ]
  },
  {
   "cell_type": "code",
   "execution_count": 52,
   "id": "f9b4c471",
   "metadata": {},
   "outputs": [
    {
     "name": "stdout",
     "output_type": "stream",
     "text": [
      "R2 on test data: 0.9283\n"
     ]
    }
   ],
   "source": [
    "model2 = linear.fit(X_train, y_train)\n",
    "print(f'R2 on test data: {model2.score(X_test, y_test):.4}')"
   ]
  },
  {
   "cell_type": "markdown",
   "id": "56666946",
   "metadata": {},
   "source": [
    "Le R2 sur nos données test est proche de celui de la validation croisée, ce qui signifie que notre modèle n'est pas en overfiting (sur-ajustement)."
   ]
  },
  {
   "cell_type": "code",
   "execution_count": 53,
   "id": "699c341f",
   "metadata": {},
   "outputs": [
    {
     "name": "stdout",
     "output_type": "stream",
     "text": [
      "root mean squared error on test data: 0.2135\n"
     ]
    }
   ],
   "source": [
    "y_pred_test = model2.predict(X_test)\n",
    "print(f'root mean squared error on test data: {np.sqrt(mean_squared_error(y_test,y_pred_test)):.4}')"
   ]
  },
  {
   "cell_type": "markdown",
   "id": "3e8d9318",
   "metadata": {},
   "source": [
    "Ici on calcule la RMSE sur nos données test. La valeur obtenue est proche de celle de la validation croisée. Notre modèle fonctionne donc bien sur des données non vues."
   ]
  },
  {
   "cell_type": "markdown",
   "id": "d9213bdc",
   "metadata": {},
   "source": [
    "## Régression linéaire multivariée"
   ]
  },
  {
   "cell_type": "markdown",
   "id": "d1aee081",
   "metadata": {},
   "source": [
    "La première régression que nous avons construite était une régression univariée, ce qui signifie que nous n’avions qu’une seule variable indépendante, qui dans ce cas était le \" petal_length \". Notre régression linéaire a démontré qu’en général, plus le pétale est long, plus il est large.\n",
    "\n",
    "Utilisons maintenant les autres variables de nos données et voyons lesquelles ont une forte relation linéaire avec la largeur du pétale."
   ]
  },
  {
   "cell_type": "code",
   "execution_count": 54,
   "id": "932ad350",
   "metadata": {
    "scrolled": true
   },
   "outputs": [
    {
     "data": {
      "image/png": "[encoded data removed]",
      "text/plain": [
       "<Figure size 432x288 with 1 Axes>"
      ]
     },
     "metadata": {
      "needs_background": "light"
     },
     "output_type": "display_data"
    }
   ],
   "source": [
    "# plot petal_width vs sepal_width\n",
    "ax = sns.regplot(x='sepal_width', y='petal_width', data=iris, fit_reg=False)\n",
    "ax.set_title('Scatter plot of sepal_width vs petal_width');"
   ]
  },
  {
   "cell_type": "markdown",
   "id": "0a4a693b",
   "metadata": {},
   "source": [
    "Il n'y a pas de ralation claire entre la largeur du sépale et celle du pétale. En tout cas elle ne semble pas être linéaire."
   ]
  },
  {
   "cell_type": "code",
   "execution_count": 55,
   "id": "5121d9f5",
   "metadata": {},
   "outputs": [
    {
     "data": {
      "image/png": "[encoded data removed]",
      "text/plain": [
       "<Figure size 432x288 with 1 Axes>"
      ]
     },
     "metadata": {
      "needs_background": "light"
     },
     "output_type": "display_data"
    },
    {
     "data": {
      "image/png": "[encoded data removed]",
      "text/plain": [
       "<Figure size 432x288 with 1 Axes>"
      ]
     },
     "metadata": {
      "needs_background": "light"
     },
     "output_type": "display_data"
    },
    {
     "data": {
      "image/png": "[encoded data removed]",
      "text/plain": [
       "<Figure size 432x288 with 1 Axes>"
      ]
     },
     "metadata": {
      "needs_background": "light"
     },
     "output_type": "display_data"
    }
   ],
   "source": [
    "for species in iris['class'].unique():\n",
    "    ax = sns.regplot(x='sepal_length', y='petal_width',\n",
    "                 data=iris[iris['class']==species], fit_reg=False)\n",
    "    ax.set_title(species)\n",
    "    plt.show()\n",
    "plt.show();"
   ]
  },
  {
   "cell_type": "markdown",
   "id": "520aef28",
   "metadata": {},
   "source": [
    "La relation linéaire entre la longueur du sépale et le largeur du pétale est le plus forte pour les espèces virginica et versicolor."
   ]
  },
  {
   "cell_type": "code",
   "execution_count": 56,
   "id": "fbe6bdc7",
   "metadata": {
    "scrolled": true
   },
   "outputs": [
    {
     "data": {
      "text/plain": [
       "<AxesSubplot:>"
      ]
     },
     "execution_count": 56,
     "metadata": {},
     "output_type": "execute_result"
    },
    {
     "data": {
      "image/png": "[encoded data removed]",
      "text/plain": [
       "<Figure size 432x288 with 2 Axes>"
      ]
     },
     "metadata": {
      "needs_background": "light"
     },
     "output_type": "display_data"
    }
   ],
   "source": [
    "correlation_matrix = iris.corr().round(2)\n",
    "sns.heatmap(data=correlation_matrix, annot=True)"
   ]
  },
  {
   "cell_type": "markdown",
   "id": "7deee2e6",
   "metadata": {},
   "source": [
    "Sur cette matrice de corrélation on voit bien que petal_width et petal_length sont fortement corrélés, ce qui explique l'exactitude de notre modèle linéaire précédent.\n",
    "\n",
    "Essayons à présent de prédire la largeur du pétale en fonction à nouveau sa longueur mais également de la largeur du sépale. ( Nous avons choisis cette variable en écartant volontairement la longueur du sépale car on voit qu'elle est fortement corrélée avec la longueur du pétale dont nous prenons déjà compte)."
   ]
  },
  {
   "cell_type": "code",
   "execution_count": 57,
   "id": "b2f8331e",
   "metadata": {},
   "outputs": [
    {
     "name": "stdout",
     "output_type": "stream",
     "text": [
      "                            OLS Regression Results                            \n",
      "==============================================================================\n",
      "Dep. Variable:            petal_width   R-squared:                       0.929\n",
      "Model:                            OLS   Adj. R-squared:                  0.928\n",
      "Method:                 Least Squares   F-statistic:                     767.5\n",
      "Date:                Sun, 16 Jan 2022   Prob (F-statistic):           5.44e-68\n",
      "Time:                        11:46:42   Log-Likelihood:                 23.055\n",
      "No. Observations:                 120   AIC:                            -40.11\n",
      "Df Residuals:                     117   BIC:                            -31.75\n",
      "Df Model:                           2                                         \n",
      "Covariance Type:            nonrobust                                         \n",
      "================================================================================\n",
      "                   coef    std err          t      P>|t|      [0.025      0.975]\n",
      "--------------------------------------------------------------------------------\n",
      "petal_length     0.4249      0.012     36.380      0.000       0.402       0.448\n",
      "sepal_width      0.1003      0.046      2.189      0.031       0.010       0.191\n",
      "cnst            -0.7078      0.164     -4.307      0.000      -1.033      -0.382\n",
      "==============================================================================\n",
      "Omnibus:                        3.696   Durbin-Watson:                   2.033\n",
      "Prob(Omnibus):                  0.158   Jarque-Bera (JB):                3.402\n",
      "Skew:                           0.244   Prob(JB):                        0.182\n",
      "Kurtosis:                       3.665   Cond. No.                         46.9\n",
      "==============================================================================\n",
      "\n",
      "Notes:\n",
      "[1] Standard Errors assume that the covariance matrix of the errors is correctly specified.\n"
     ]
    }
   ],
   "source": [
    "# Define our dependent variable\n",
    "y_column = 'petal_width'\n",
    "y = iris[y_column]\n",
    "\n",
    "# Define our independent variables\n",
    "x_columns = ['petal_length', 'sepal_width']\n",
    "X = iris[x_columns]\n",
    "\n",
    "# Add an intercept term to the independent variables. This is needed in order to␣\n",
    "#include the constant term from linear regression equation.\n",
    "X['cnst'] = 1\n",
    "\n",
    "# Split our data into training and test data sets\n",
    "X_train, X_test, y_train, y_test = train_test_split(X, y, test_size=0.2,random_state=42)\n",
    "\n",
    "model2 = sm.OLS(endog = y_train,exog = X_train).fit()\n",
    "print(model2.summary())"
   ]
  },
  {
   "cell_type": "markdown",
   "id": "c910fd58",
   "metadata": {},
   "source": [
    "L'ajout de la variable sepal_width a améliorer notre modèle ( le R2 ajusté est passé de 0.926 à 0.928 ). En revanche la p-valeur pour le coefficient sepal_width est de 0.031 ce qui est supérieur à 0.005."
   ]
  },
  {
   "cell_type": "markdown",
   "id": "53f6b092",
   "metadata": {},
   "source": [
    "Vérifions certaines des hypothèses de régression linéaire que nous avons abordées plus haut pour\n",
    "nous assurer que nous pouvons interpréter avec confiance les coefficients des modèles comme\n",
    "ci-dessus.\n",
    "\n",
    "Pour faire cela rapidement, nous utiliserons les statistiques données dans le tableau récapitulatif, comme précédemment:\n",
    "\n",
    "1) Normalité: Le nombre de Prob(JB) est supérieur à 0.05 ce qui signifie que nous ne rejetons pas l'hypothèse nulle selon laquelle les données sont normalement distribuées. HYPOTHÈSE VÉRIFIÉE\n",
    "\n",
    "2) Multicolinéarité: Le nombre de conditions est inférieur à 30, ce qui signifie que nous n'avons pas de problème de multicollinéarité dans le modèle. HYPOTHÈSE VÉRIFIÉE \n",
    "\n",
    "3) Autocorrélation: Le nombre de Durbin-Watson est approximativement 2 donc pas d’autocorrélation. HYPOTHÈSE VÉRIFIÉE.\n",
    "\n",
    "4) Homoscédasticité: Le nombre de Prob(Omnibus) est supérieur à 0,05, ce qui signifie que ne rejetons pas l’hypothèse nulle selon laquelle les résidus sont normalement distribués. HYPOTHÈSE VÉRIFIÉE.\n",
    "\n",
    "Toutes les hypothèses sont vérifiées donc le pouvoir prédictif de notre modèle est valide et nous pouvons alors interpréter les coefficients comme nous le souhaitons."
   ]
  },
  {
   "cell_type": "markdown",
   "id": "2d4bd3ae",
   "metadata": {},
   "source": [
    "### Evaluation du modèle"
   ]
  },
  {
   "cell_type": "code",
   "execution_count": 58,
   "id": "77eb0510",
   "metadata": {},
   "outputs": [
    {
     "name": "stdout",
     "output_type": "stream",
     "text": [
      "cross validation R2: 0.9237729243415107\n"
     ]
    }
   ],
   "source": [
    "# Initialize the model. We set fit_intercept as false as we already have the \n",
    "# constant included in our data.\n",
    "linear = LinearRegression(fit_intercept=False)\n",
    "# Use the cross_val_sore function to calculate the r2 cross validation\n",
    "r2_cross_val_score = cross_val_score(linear, X_train, y_train, cv = 5).mean()\n",
    "# Results!\n",
    "print('cross validation R2: {}'.format(r2_cross_val_score))"
   ]
  },
  {
   "cell_type": "markdown",
   "id": "f8ba2f28",
   "metadata": {},
   "source": [
    "Le score R2 de validation croisée est très similaire au R2 d’apprentissage, ce qui nous donne con-\n",
    "fiance dans les performances du modèle sur les données de test non vues !"
   ]
  },
  {
   "cell_type": "code",
   "execution_count": 59,
   "id": "686d42d9",
   "metadata": {},
   "outputs": [
    {
     "name": "stdout",
     "output_type": "stream",
     "text": [
      "cross validation MSE: 0.0410367\n",
      "cross validation RMSE: 0.2026\n"
     ]
    }
   ],
   "source": [
    "# make MSE scorer\n",
    "mse_scorer = make_scorer(mean_squared_error)\n",
    "# use the cross_val_score function to calculate to the cross validated MSE\n",
    "mse_cross_val_score = cross_val_score(linear, X_train, y_train,scoring=mse_scorer, cv =5).mean()\n",
    "# Results!\n",
    "print(f'cross validation MSE: {mse_cross_val_score:.6}')\n",
    "print(f'cross validation RMSE: {np.sqrt(mse_cross_val_score):.4}')"
   ]
  },
  {
   "cell_type": "markdown",
   "id": "f232282b",
   "metadata": {},
   "source": [
    "Cela suggère que l'erreur moyenne de notre modèle est de 0.2 cm."
   ]
  },
  {
   "cell_type": "markdown",
   "id": "7dfa58d6",
   "metadata": {},
   "source": [
    "Maintenant, voyons comment il se comporte sur nos données de test."
   ]
  },
  {
   "cell_type": "code",
   "execution_count": 60,
   "id": "f7654c3e",
   "metadata": {},
   "outputs": [
    {
     "name": "stdout",
     "output_type": "stream",
     "text": [
      "R2 on test data: 0.931\n"
     ]
    }
   ],
   "source": [
    "#Train the Model\n",
    "model2 = linear.fit(X_train, y_train)\n",
    "#Get R2 for test data\n",
    "print(f'R2 on test data: {model2.score(X_test, y_test):.4}')"
   ]
  },
  {
   "cell_type": "markdown",
   "id": "168fabbf",
   "metadata": {},
   "source": [
    "Excellent ! C’est comparable à la validation croisée R2, donc nous savons que nous ne sommes pas en train de sur-ajuster."
   ]
  },
  {
   "cell_type": "code",
   "execution_count": 61,
   "id": "94092805",
   "metadata": {},
   "outputs": [
    {
     "name": "stdout",
     "output_type": "stream",
     "text": [
      "root mean squared error on test data: 0.2095\n"
     ]
    }
   ],
   "source": [
    "# Get predictions for the test data\n",
    "y_pred_test = model2.predict(X_test)\n",
    "print(f'root mean squared error on test data: {np.sqrt(mean_squared_error(y_test,y_pred_test)):.4}')"
   ]
  },
  {
   "cell_type": "markdown",
   "id": "4a2d5bdb",
   "metadata": {},
   "source": [
    "Encore une fois, ce résultat est comparable à celui de la validation croisée, ce qui nous permet de penser que le modèle fonctionne bien sur les données non vues."
   ]
  },
  {
   "cell_type": "markdown",
   "id": "2c2a5e80",
   "metadata": {},
   "source": [
    "Enfin, visualisons les performances de notre modèle sur les données de test."
   ]
  },
  {
   "cell_type": "code",
   "execution_count": 62,
   "id": "189b7f25",
   "metadata": {},
   "outputs": [
    {
     "data": {
      "image/png": "[encoded data removed]",
      "text/plain": [
       "<Figure size 648x504 with 1 Axes>"
      ]
     },
     "metadata": {
      "needs_background": "light"
     },
     "output_type": "display_data"
    }
   ],
   "source": [
    "plt.figure(figsize=(9,7))\n",
    "plt.scatter(y_pred_test, y_test, alpha=0.5, c='r')\n",
    "plt.title('predicted vs true for test data')\n",
    "plt.xlabel('predicted petal_width')\n",
    "plt.ylabel('True petal_width')\n",
    "plt.show();"
   ]
  },
  {
   "cell_type": "markdown",
   "id": "1bf0f6d7",
   "metadata": {},
   "source": [
    "# Clustering k-means"
   ]
  },
  {
   "cell_type": "markdown",
   "id": "172be71d",
   "metadata": {},
   "source": [
    "Dans cette partie, on cherche à cherche à répondre, à partir de la méthode de clustering k-means, à la question suivante:"
   ]
  },
  {
   "cell_type": "markdown",
   "id": "eacf0028",
   "metadata": {},
   "source": [
    "Peut-on déterminer l'espèce des Iris en fonction de la longueur et de la largeur de leur pétale ?"
   ]
  },
  {
   "cell_type": "code",
   "execution_count": 63,
   "id": "79cbc1dd",
   "metadata": {},
   "outputs": [],
   "source": [
    "for i in range(150):\n",
    "    if iris['class'][i] == 'Iris-setosa':\n",
    "        iris['class'][i] = 1\n",
    "    elif iris['class'][i] == 'Iris-versicolor':\n",
    "        iris['class'][i] = 2\n",
    "    else:\n",
    "        iris['class'][i] = 3"
   ]
  },
  {
   "cell_type": "markdown",
   "id": "707d25d2",
   "metadata": {},
   "source": [
    "Pour pouvoir appliquer la méthode des k-means, on doit numéroter les class."
   ]
  },
  {
   "cell_type": "code",
   "execution_count": 64,
   "id": "f7c4f19a",
   "metadata": {},
   "outputs": [
    {
     "name": "stderr",
     "output_type": "stream",
     "text": [
      "C:\\Users\\vince\\anaconda3\\lib\\site-packages\\sklearn\\cluster\\_kmeans.py:881: UserWarning: KMeans is known to have a memory leak on Windows with MKL, when there are less chunks than available threads. You can avoid it by setting the environment variable OMP_NUM_THREADS=1.\n",
      "  warnings.warn(\n"
     ]
    }
   ],
   "source": [
    "# Let's fit a different model for each value of k\n",
    "k_values = range(1, 10)\n",
    "\n",
    "# Fit a model for each value of k\n",
    "k_mean_models = [KMeans(n_clusters=i) for i in k_values]\n",
    "\n",
    "# See how the scores change\n",
    "scores = [-k_mean_models[i].fit(iris).score(iris)\n",
    "          for i, model in enumerate(k_mean_models)]"
   ]
  },
  {
   "cell_type": "code",
   "execution_count": 65,
   "id": "618ca3f6",
   "metadata": {},
   "outputs": [
    {
     "data": {
      "image/png": "[encoded data removed]",
      "text/plain": [
       "<Figure size 432x288 with 1 Axes>"
      ]
     },
     "metadata": {
      "needs_background": "light"
     },
     "output_type": "display_data"
    }
   ],
   "source": [
    "# Let's plot the effect k on the clustering\n",
    "ax = sns.pointplot(x=list(k_values),\n",
    "                   y=scores);\n",
    "ax.set(xlabel='k',\n",
    "       ylabel='Fit',\n",
    "       title='The Elbow Method choosing k');"
   ]
  },
  {
   "cell_type": "markdown",
   "id": "f38ecc28",
   "metadata": {},
   "source": [
    "Ici, on trace un coude pour voir quel serait le nombre optimal de clusters. On remarque que le coude se forme pour la valeur 3. On choisit donc de diviser les données en 3 clusters ( ce que nous pouvions deviner à l'avance car nous avons 3 espèces différentes )."
   ]
  },
  {
   "cell_type": "code",
   "execution_count": 71,
   "id": "492cefc2",
   "metadata": {},
   "outputs": [
    {
     "data": {
      "image/png": "[encoded data removed]",
      "text/plain": [
       "<Figure size 441.75x360 with 1 Axes>"
      ]
     },
     "metadata": {
      "needs_background": "light"
     },
     "output_type": "display_data"
    }
   ],
   "source": [
    "kmeans = KMeans(n_clusters=3) # On crée 3 clusters\n",
    "kmeans.fit(iris);\n",
    "\n",
    "iris['kmeans_labels'] = kmeans.labels_\n",
    "\n",
    "kmeans_plot = sns.lmplot(x='petal_length', \n",
    "                       y='petal_width', \n",
    "                       data=iris, \n",
    "                       fit_reg=False,        \n",
    "                       hue=\"kmeans_labels\",  \n",
    "                       legend=True);\n",
    "\n",
    "kmeans_plot.ax.plot(kmeans.cluster_centers_[0][0], kmeans.cluster_centers_[0][1], color='red', marker='*');\n",
    "\n",
    "kmeans_plot.ax.plot(kmeans.cluster_centers_[1][0], kmeans.cluster_centers_[1][1], color='cyan', marker='*');\n",
    "\n",
    "kmeans_plot.ax.plot(kmeans.cluster_centers_[2][0], kmeans.cluster_centers_[2][1], color='orange', marker='*');"
   ]
  },
  {
   "cell_type": "markdown",
   "id": "c642cdc9",
   "metadata": {},
   "source": [
    "Ici on applique l'algorithme des k-means. On reamarque qu'un cluster est formé pour les petites longueuers et largeurs de pétales, ce qui correspond à la classe Iris-setosa. En revanche les deux autres clusters formés ne séparent pas les deux autres classes. En effet certaines valeurs de longueurs et de largeurs de ces deux classes sont proches. De ce fait certaines données d'une même classe se placent dans des clusters différents en fonction de leur distance au centre du cluster."
   ]
  }
 ],
 "metadata": {
  "kernelspec": {
   "display_name": "Python 3 (ipykernel)",
   "language": "python",
   "name": "python3"
  },
  "language_info": {
   "codemirror_mode": {
    "name": "ipython",
    "version": 3
   },
   "file_extension": ".py",
   "mimetype": "text/x-python",
   "name": "python",
   "nbconvert_exporter": "python",
   "pygments_lexer": "ipython3",
   "version": "3.9.7"
  }
 },
 "nbformat": 4,
 "nbformat_minor": 5
}
